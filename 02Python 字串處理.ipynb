{
 "cells": [
  {
   "cell_type": "markdown",
   "id": "8f0b46aa",
   "metadata": {},
   "source": [
    "print\n",
    "==="
   ]
  },
  {
   "cell_type": "code",
   "execution_count": 1,
   "id": "69abcea8",
   "metadata": {},
   "outputs": [
    {
     "name": "stdout",
     "output_type": "stream",
     "text": [
      "Hello world\n"
     ]
    }
   ],
   "source": [
    "print ('Hello world')"
   ]
  },
  {
   "cell_type": "code",
   "execution_count": 2,
   "id": "1dd1fd23",
   "metadata": {},
   "outputs": [
    {
     "name": "stdout",
     "output_type": "stream",
     "text": [
      "Welcome Taiwan 2022\n"
     ]
    }
   ],
   "source": [
    "print ('Welcome', 'Taiwan', 2022)"
   ]
  },
  {
   "cell_type": "code",
   "execution_count": 3,
   "id": "850552fe",
   "metadata": {},
   "outputs": [
    {
     "name": "stdout",
     "output_type": "stream",
     "text": [
      "777\n"
     ]
    }
   ],
   "source": [
    "print(777)"
   ]
  },
  {
   "cell_type": "code",
   "execution_count": 5,
   "id": "c9d315c0",
   "metadata": {},
   "outputs": [
    {
     "name": "stdout",
     "output_type": "stream",
     "text": [
      "李品嫻 的平均成績為 90.534864210 , 排名第10\n"
     ]
    }
   ],
   "source": [
    "name = '李品嫻'\n",
    "score = 90.53486421\n",
    "rank = 10\n",
    "print ('%s 的平均成績為 %9.9f , 排名第%d' % (name, score,rank)) ## %s代表字串, %5.2f代表固定列印5個字元(含小數點)的浮點數, %d代表整數"
   ]
  },
  {
   "cell_type": "code",
   "execution_count": 6,
   "id": "b7f1d0e4",
   "metadata": {},
   "outputs": [
    {
     "data": {
      "text/plain": [
       "'20 除以 6 是 3.3333333333333335'"
      ]
     },
     "execution_count": 6,
     "metadata": {},
     "output_type": "execute_result"
    }
   ],
   "source": [
    "'{} 除以 {} 是 {}'.format(20, 6, 20/6)"
   ]
  },
  {
   "cell_type": "code",
   "execution_count": 7,
   "id": "a01da6dc",
   "metadata": {},
   "outputs": [
    {
     "data": {
      "text/plain": [
       "'20 除以 6 是 3.3333333333333335'"
      ]
     },
     "execution_count": 7,
     "metadata": {},
     "output_type": "execute_result"
    }
   ],
   "source": [
    "a = 20\n",
    "b = 6\n",
    "'{} 除以 {} 是 {}'.format(a, b, a/b)"
   ]
  },
  {
   "cell_type": "code",
   "execution_count": null,
   "id": "d0b4361a",
   "metadata": {},
   "outputs": [],
   "source": []
  }
 ],
 "metadata": {
  "kernelspec": {
   "display_name": "Python 3 (ipykernel)",
   "language": "python",
   "name": "python3"
  },
  "language_info": {
   "codemirror_mode": {
    "name": "ipython",
    "version": 3
   },
   "file_extension": ".py",
   "mimetype": "text/x-python",
   "name": "python",
   "nbconvert_exporter": "python",
   "pygments_lexer": "ipython3",
   "version": "3.9.7"
  }
 },
 "nbformat": 4,
 "nbformat_minor": 5
}
