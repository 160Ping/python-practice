{
 "cells": [
  {
   "cell_type": "markdown",
   "id": "b3de198d",
   "metadata": {},
   "source": [
    "# print、type指令"
   ]
  },
  {
   "cell_type": "markdown",
   "id": "c42f2735",
   "metadata": {},
   "source": [
    "### integer"
   ]
  },
  {
   "cell_type": "code",
   "execution_count": 28,
   "id": "df52a6d3",
   "metadata": {},
   "outputs": [
    {
     "name": "stdout",
     "output_type": "stream",
     "text": [
      "9\n"
     ]
    },
    {
     "data": {
      "text/plain": [
       "int"
      ]
     },
     "execution_count": 28,
     "metadata": {},
     "output_type": "execute_result"
    }
   ],
   "source": [
    "x = 9\n",
    "print(x)\n",
    "type(x)"
   ]
  },
  {
   "cell_type": "markdown",
   "id": "744ade1e",
   "metadata": {},
   "source": [
    "### float"
   ]
  },
  {
   "cell_type": "code",
   "execution_count": 2,
   "id": "77e1dcb6",
   "metadata": {},
   "outputs": [
    {
     "name": "stdout",
     "output_type": "stream",
     "text": [
      "1.234\n"
     ]
    },
    {
     "data": {
      "text/plain": [
       "float"
      ]
     },
     "execution_count": 2,
     "metadata": {},
     "output_type": "execute_result"
    }
   ],
   "source": [
    "x = 1.234\n",
    "print(x)\n",
    "type(x)"
   ]
  },
  {
   "cell_type": "markdown",
   "id": "c2f16abb",
   "metadata": {},
   "source": [
    "### string"
   ]
  },
  {
   "cell_type": "code",
   "execution_count": 3,
   "id": "5f7c0f65",
   "metadata": {},
   "outputs": [
    {
     "name": "stdout",
     "output_type": "stream",
     "text": [
      "ntub10846034\n"
     ]
    },
    {
     "data": {
      "text/plain": [
       "str"
      ]
     },
     "execution_count": 3,
     "metadata": {},
     "output_type": "execute_result"
    }
   ],
   "source": [
    "x = 'ntub10846034'\n",
    "print(x)\n",
    "type(x)"
   ]
  },
  {
   "cell_type": "markdown",
   "id": "50588c0d",
   "metadata": {},
   "source": [
    "### boolean"
   ]
  },
  {
   "cell_type": "code",
   "execution_count": 4,
   "id": "f1a1b2ff",
   "metadata": {},
   "outputs": [
    {
     "name": "stdout",
     "output_type": "stream",
     "text": [
      "False\n"
     ]
    },
    {
     "data": {
      "text/plain": [
       "bool"
      ]
     },
     "execution_count": 4,
     "metadata": {},
     "output_type": "execute_result"
    }
   ],
   "source": [
    "x = False\n",
    "print(x)\n",
    "type(x)"
   ]
  },
  {
   "cell_type": "code",
   "execution_count": 6,
   "id": "2eca1334",
   "metadata": {},
   "outputs": [
    {
     "data": {
      "text/plain": [
       "False"
      ]
     },
     "execution_count": 6,
     "metadata": {},
     "output_type": "execute_result"
    }
   ],
   "source": [
    "bool(0) # bool()將0, ''空字串, ()空Tuple, []空清單及{}空字典轉換成False, 非0轉成True"
   ]
  },
  {
   "cell_type": "code",
   "execution_count": 8,
   "id": "7f9b25c1",
   "metadata": {},
   "outputs": [
    {
     "data": {
      "text/plain": [
       "False"
      ]
     },
     "execution_count": 8,
     "metadata": {},
     "output_type": "execute_result"
    }
   ],
   "source": [
    "bool()"
   ]
  },
  {
   "cell_type": "code",
   "execution_count": 9,
   "id": "a126429d",
   "metadata": {},
   "outputs": [
    {
     "data": {
      "text/plain": [
       "True"
      ]
     },
     "execution_count": 9,
     "metadata": {},
     "output_type": "execute_result"
    }
   ],
   "source": [
    "bool(6)"
   ]
  },
  {
   "cell_type": "markdown",
   "id": "7cc524d2",
   "metadata": {},
   "source": [
    "### 時間日期"
   ]
  },
  {
   "cell_type": "code",
   "execution_count": 2,
   "id": "51e267ce",
   "metadata": {},
   "outputs": [
    {
     "data": {
      "text/plain": [
       "datetime.datetime(2022, 6, 13, 11, 54, 53, 545623)"
      ]
     },
     "execution_count": 2,
     "metadata": {},
     "output_type": "execute_result"
    }
   ],
   "source": [
    "from datetime import datetime  # from 套件名稱 import 函式\n",
    "now = datetime.now()# 取得目前的時間, 並回傳datetime型態\n",
    "now"
   ]
  },
  {
   "cell_type": "code",
   "execution_count": 14,
   "id": "a2ec65b0",
   "metadata": {},
   "outputs": [
    {
     "name": "stdout",
     "output_type": "stream",
     "text": [
      "2022 5 26 16 1 52 973739\n",
      "4\n",
      "2022-05-26T16:01:52.973739\n"
     ]
    }
   ],
   "source": [
    "#attributes 分別為 年,月,日,時,分,秒,微秒, 其中微秒(microseconds)=1/1000000秒\n",
    "print (now.year, now.month, now.day, now.hour, now.minute, now.second, now.microsecond)\n",
    "print (now.weekday()+1) # 回傳是星期幾, 星期天回傳為 6, 星期一回傳為 0\n",
    "print (now.isoformat()) # 回傳為ISO 8601格式"
   ]
  },
  {
   "cell_type": "code",
   "execution_count": 3,
   "id": "966a7967",
   "metadata": {},
   "outputs": [
    {
     "data": {
      "text/plain": [
       "datetime.timedelta(days=894, seconds=42893, microseconds=545623)"
      ]
     },
     "execution_count": 3,
     "metadata": {},
     "output_type": "execute_result"
    }
   ],
   "source": [
    "delta = datetime(2022, 6, 13, 11, 54, 53, 545623) - datetime(2020, 1, 1)\n",
    "delta # timedelta 格式為天數, 秒數與微數"
   ]
  },
  {
   "cell_type": "code",
   "execution_count": 4,
   "id": "c40e4da9",
   "metadata": {},
   "outputs": [
    {
     "name": "stdout",
     "output_type": "stream",
     "text": [
      "894 42893 545623\n"
     ]
    }
   ],
   "source": [
    "print (delta.days, delta.seconds, delta.microseconds)  # 取用天數, 秒數與微秒"
   ]
  },
  {
   "cell_type": "code",
   "execution_count": 6,
   "id": "3f801057",
   "metadata": {},
   "outputs": [
    {
     "data": {
      "text/plain": [
       "datetime.datetime(2022, 6, 25, 3, 42, 10, 10)"
      ]
     },
     "execution_count": 6,
     "metadata": {},
     "output_type": "execute_result"
    }
   ],
   "source": [
    "from datetime import timedelta\n",
    "datetime(2022, 6, 13, 3, 42) + timedelta(12, 10, 10)"
   ]
  },
  {
   "cell_type": "markdown",
   "id": "a3fd21b9",
   "metadata": {},
   "source": [
    "### 運算式"
   ]
  },
  {
   "cell_type": "code",
   "execution_count": 7,
   "id": "f2d6c38c",
   "metadata": {},
   "outputs": [
    {
     "data": {
      "text/plain": [
       "12"
      ]
     },
     "execution_count": 7,
     "metadata": {},
     "output_type": "execute_result"
    }
   ],
   "source": [
    "7 + 5"
   ]
  },
  {
   "cell_type": "code",
   "execution_count": 8,
   "id": "dde93663",
   "metadata": {},
   "outputs": [
    {
     "data": {
      "text/plain": [
       "-3"
      ]
     },
     "execution_count": 8,
     "metadata": {},
     "output_type": "execute_result"
    }
   ],
   "source": [
    "6 - 9"
   ]
  },
  {
   "cell_type": "code",
   "execution_count": 9,
   "id": "5966241e",
   "metadata": {},
   "outputs": [
    {
     "data": {
      "text/plain": [
       "36"
      ]
     },
     "execution_count": 9,
     "metadata": {},
     "output_type": "execute_result"
    }
   ],
   "source": [
    "4 * 9"
   ]
  },
  {
   "cell_type": "code",
   "execution_count": 10,
   "id": "def4d825",
   "metadata": {},
   "outputs": [
    {
     "data": {
      "text/plain": [
       "0.42857142857142855"
      ]
     },
     "execution_count": 10,
     "metadata": {},
     "output_type": "execute_result"
    }
   ],
   "source": [
    "3 / 7"
   ]
  },
  {
   "cell_type": "code",
   "execution_count": 11,
   "id": "cae69551",
   "metadata": {},
   "outputs": [
    {
     "data": {
      "text/plain": [
       "2"
      ]
     },
     "execution_count": 11,
     "metadata": {},
     "output_type": "execute_result"
    }
   ],
   "source": [
    "9 // 4 ##整除取商"
   ]
  },
  {
   "cell_type": "code",
   "execution_count": 12,
   "id": "6cf55698",
   "metadata": {},
   "outputs": [
    {
     "data": {
      "text/plain": [
       "36"
      ]
     },
     "execution_count": 12,
     "metadata": {},
     "output_type": "execute_result"
    }
   ],
   "source": [
    "6 ** 2 ##2次方"
   ]
  },
  {
   "cell_type": "code",
   "execution_count": 13,
   "id": "a0688f6d",
   "metadata": {},
   "outputs": [
    {
     "data": {
      "text/plain": [
       "3"
      ]
     },
     "execution_count": 13,
     "metadata": {},
     "output_type": "execute_result"
    }
   ],
   "source": [
    "15 % 4 ##取餘數"
   ]
  },
  {
   "cell_type": "markdown",
   "id": "745bfcd1",
   "metadata": {},
   "source": [
    "### 資料型態轉換"
   ]
  },
  {
   "cell_type": "code",
   "execution_count": 14,
   "id": "67e84e19",
   "metadata": {},
   "outputs": [
    {
     "data": {
      "text/plain": [
       "'45.6'"
      ]
     },
     "execution_count": 14,
     "metadata": {},
     "output_type": "execute_result"
    }
   ],
   "source": [
    "str(45.6)"
   ]
  },
  {
   "cell_type": "code",
   "execution_count": 15,
   "id": "4e76907d",
   "metadata": {},
   "outputs": [
    {
     "data": {
      "text/plain": [
       "72"
      ]
     },
     "execution_count": 15,
     "metadata": {},
     "output_type": "execute_result"
    }
   ],
   "source": [
    "int('72')"
   ]
  },
  {
   "cell_type": "code",
   "execution_count": 16,
   "id": "c95961ea",
   "metadata": {},
   "outputs": [
    {
     "data": {
      "text/plain": [
       "3.1415"
      ]
     },
     "execution_count": 16,
     "metadata": {},
     "output_type": "execute_result"
    }
   ],
   "source": [
    "float('3.1415')"
   ]
  },
  {
   "cell_type": "code",
   "execution_count": 22,
   "id": "1f446acd",
   "metadata": {},
   "outputs": [
    {
     "data": {
      "text/plain": [
       "datetime.datetime(2022, 6, 13, 15, 47)"
      ]
     },
     "execution_count": 22,
     "metadata": {},
     "output_type": "execute_result"
    }
   ],
   "source": [
    "from datetime import datetime\n",
    "\n",
    "date1 = datetime.strptime('Jun 13 2022 3:47PM', '%b %d %Y %I:%M%p')\n",
    "date1"
   ]
  },
  {
   "cell_type": "code",
   "execution_count": 20,
   "id": "0ee92e39",
   "metadata": {},
   "outputs": [
    {
     "data": {
      "text/plain": [
       "'2022/06/13 15:48:14'"
      ]
     },
     "execution_count": 20,
     "metadata": {},
     "output_type": "execute_result"
    }
   ],
   "source": [
    "datetest = datetime.now()\n",
    "datetime.strftime(datetest, '%Y/%m/%d %H:%M:%S')"
   ]
  },
  {
   "cell_type": "code",
   "execution_count": 24,
   "id": "a802d9a9",
   "metadata": {},
   "outputs": [
    {
     "data": {
      "text/plain": [
       "datetime.datetime(2022, 6, 13, 15, 48)"
      ]
     },
     "execution_count": 24,
     "metadata": {},
     "output_type": "execute_result"
    }
   ],
   "source": [
    "date2 = datetime.strptime('2022/06/13 15:48', '%Y/%m/%d %H:%M')   \n",
    "date2"
   ]
  },
  {
   "cell_type": "code",
   "execution_count": 25,
   "id": "4e7b7574",
   "metadata": {},
   "outputs": [
    {
     "data": {
      "text/plain": [
       "datetime.datetime(2022, 6, 13, 15, 48, 14)"
      ]
     },
     "execution_count": 25,
     "metadata": {},
     "output_type": "execute_result"
    }
   ],
   "source": [
    "date3 = datetime.strptime('2022-6-13 15:48:14', '%Y-%m-%d %H:%M:%S')\n",
    "date3"
   ]
  },
  {
   "cell_type": "code",
   "execution_count": 26,
   "id": "c7714400",
   "metadata": {},
   "outputs": [
    {
     "data": {
      "text/plain": [
       "'2022/06/13 15:48:14'"
      ]
     },
     "execution_count": 26,
     "metadata": {},
     "output_type": "execute_result"
    }
   ],
   "source": [
    "datetime.strftime(date3, '%Y/%m/%d %H:%M:%S')"
   ]
  }
 ],
 "metadata": {
  "kernelspec": {
   "display_name": "Python 3 (ipykernel)",
   "language": "python",
   "name": "python3"
  },
  "language_info": {
   "codemirror_mode": {
    "name": "ipython",
    "version": 3
   },
   "file_extension": ".py",
   "mimetype": "text/x-python",
   "name": "python",
   "nbconvert_exporter": "python",
   "pygments_lexer": "ipython3",
   "version": "3.9.7"
  }
 },
 "nbformat": 4,
 "nbformat_minor": 5
}
