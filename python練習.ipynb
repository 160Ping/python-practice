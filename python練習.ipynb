{
 "cells": [
  {
   "cell_type": "markdown",
   "id": "9244fda8",
   "metadata": {},
   "source": [
    "problem 1\n",
    "===\n",
    "本題的輸入檔中有多筆資料，每筆資料佔一行，內容均為 0到9 的數字，每行的字數為 2到200 字。\n",
    "<br>\n",
    "在每一行的資料中，都包括 1 個或多個**非遞減字串**，而**非遞減字串**就是該字串中除了第 1 個數字外，其他的數字都大於或等於它的前一個數字。\n",
    "<br>\n",
    "例如：11234458，因為 1 <= 1 <=<= 2 <= 3 <= 4 = 4 <= 5 <= 8，它就是一個**非遞減字串**。\n",
    "<br>\n",
    "請寫程式計算每筆資料中最長的**非遞減字串**之字數。\n",
    "<br>\n",
    "\n",
    "**範例一：**\n",
    "<br>\n",
    "測試輸入：1112223334444555566667777 \n",
    "<br>\n",
    "測試輸出：25\n",
    "<br>\n",
    "<br>\n",
    "**範例二：**\n",
    "<br>\n",
    "測試輸入：3337777899922222222222222222\n",
    "<br>\n",
    "測試輸出：17"
   ]
  },
  {
   "cell_type": "code",
   "execution_count": 3,
   "id": "d293b433",
   "metadata": {},
   "outputs": [],
   "source": [
    "a = '1112223334444555566667777'"
   ]
  },
  {
   "cell_type": "code",
   "execution_count": 4,
   "id": "113c119e",
   "metadata": {},
   "outputs": [
    {
     "name": "stdout",
     "output_type": "stream",
     "text": [
      "1112223334444555566667777\n"
     ]
    }
   ],
   "source": [
    "print(a)"
   ]
  },
  {
   "cell_type": "code",
   "execution_count": 21,
   "id": "3ababfab",
   "metadata": {},
   "outputs": [
    {
     "ename": "SyntaxError",
     "evalue": "invalid syntax (Temp/ipykernel_17196/2021909054.py, line 1)",
     "output_type": "error",
     "traceback": [
      "\u001b[1;36m  File \u001b[1;32m\"C:\\Users\\User\\AppData\\Local\\Temp/ipykernel_17196/2021909054.py\"\u001b[1;36m, line \u001b[1;32m1\u001b[0m\n\u001b[1;33m    int b = 0\u001b[0m\n\u001b[1;37m        ^\u001b[0m\n\u001b[1;31mSyntaxError\u001b[0m\u001b[1;31m:\u001b[0m invalid syntax\n"
     ]
    }
   ],
   "source": [
    "int b = 0\n",
    "for i in a:\n",
    "    print(i)\n",
    "    if int(i) <= int(i) + 1:\n",
    "        \n",
    "        b+=1\n",
    "    else:\n",
    "        break\n",
    " \n"
   ]
  }
 ],
 "metadata": {
  "kernelspec": {
   "display_name": "Python 3 (ipykernel)",
   "language": "python",
   "name": "python3"
  },
  "language_info": {
   "codemirror_mode": {
    "name": "ipython",
    "version": 3
   },
   "file_extension": ".py",
   "mimetype": "text/x-python",
   "name": "python",
   "nbconvert_exporter": "python",
   "pygments_lexer": "ipython3",
   "version": "3.9.7"
  }
 },
 "nbformat": 4,
 "nbformat_minor": 5
}
