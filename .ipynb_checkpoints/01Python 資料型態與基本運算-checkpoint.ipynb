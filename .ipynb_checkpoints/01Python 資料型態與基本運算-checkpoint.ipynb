{
 "cells": [
  {
   "cell_type": "markdown",
   "id": "b3de198d",
   "metadata": {},
   "source": [
    "# print、type指令"
   ]
  },
  {
   "cell_type": "markdown",
   "id": "c42f2735",
   "metadata": {},
   "source": [
    "### integer"
   ]
  },
  {
   "cell_type": "code",
   "execution_count": 1,
   "id": "df52a6d3",
   "metadata": {},
   "outputs": [
    {
     "name": "stdout",
     "output_type": "stream",
     "text": [
      "9\n"
     ]
    },
    {
     "data": {
      "text/plain": [
       "int"
      ]
     },
     "execution_count": 1,
     "metadata": {},
     "output_type": "execute_result"
    }
   ],
   "source": [
    "x = 9\n",
    "print(x)\n",
    "type(x)"
   ]
  },
  {
   "cell_type": "markdown",
   "id": "744ade1e",
   "metadata": {},
   "source": [
    "### float"
   ]
  },
  {
   "cell_type": "code",
   "execution_count": 2,
   "id": "77e1dcb6",
   "metadata": {},
   "outputs": [
    {
     "name": "stdout",
     "output_type": "stream",
     "text": [
      "1.234\n"
     ]
    },
    {
     "data": {
      "text/plain": [
       "float"
      ]
     },
     "execution_count": 2,
     "metadata": {},
     "output_type": "execute_result"
    }
   ],
   "source": [
    "x = 1.234\n",
    "print(x)\n",
    "type(x)"
   ]
  },
  {
   "cell_type": "markdown",
   "id": "c2f16abb",
   "metadata": {},
   "source": [
    "### string"
   ]
  },
  {
   "cell_type": "code",
   "execution_count": 3,
   "id": "5f7c0f65",
   "metadata": {},
   "outputs": [
    {
     "name": "stdout",
     "output_type": "stream",
     "text": [
      "ntub10846034\n"
     ]
    },
    {
     "data": {
      "text/plain": [
       "str"
      ]
     },
     "execution_count": 3,
     "metadata": {},
     "output_type": "execute_result"
    }
   ],
   "source": [
    "x = 'ntub10846034'\n",
    "print(x)\n",
    "type(x)"
   ]
  },
  {
   "cell_type": "markdown",
   "id": "50588c0d",
   "metadata": {},
   "source": [
    "### boolean"
   ]
  },
  {
   "cell_type": "code",
   "execution_count": 4,
   "id": "f1a1b2ff",
   "metadata": {},
   "outputs": [
    {
     "name": "stdout",
     "output_type": "stream",
     "text": [
      "False\n"
     ]
    },
    {
     "data": {
      "text/plain": [
       "bool"
      ]
     },
     "execution_count": 4,
     "metadata": {},
     "output_type": "execute_result"
    }
   ],
   "source": [
    "x = False\n",
    "print(x)\n",
    "type(x)"
   ]
  },
  {
   "cell_type": "code",
   "execution_count": 6,
   "id": "2eca1334",
   "metadata": {},
   "outputs": [
    {
     "data": {
      "text/plain": [
       "False"
      ]
     },
     "execution_count": 6,
     "metadata": {},
     "output_type": "execute_result"
    }
   ],
   "source": [
    "bool(0) # bool()將0, ''空字串, ()空Tuple, []空清單及{}空字典轉換成False, 非0轉成True"
   ]
  },
  {
   "cell_type": "code",
   "execution_count": 8,
   "id": "7f9b25c1",
   "metadata": {},
   "outputs": [
    {
     "data": {
      "text/plain": [
       "False"
      ]
     },
     "execution_count": 8,
     "metadata": {},
     "output_type": "execute_result"
    }
   ],
   "source": [
    "bool()"
   ]
  },
  {
   "cell_type": "code",
   "execution_count": 9,
   "id": "a126429d",
   "metadata": {},
   "outputs": [
    {
     "data": {
      "text/plain": [
       "True"
      ]
     },
     "execution_count": 9,
     "metadata": {},
     "output_type": "execute_result"
    }
   ],
   "source": [
    "bool(6)"
   ]
  },
  {
   "cell_type": "markdown",
   "id": "7cc524d2",
   "metadata": {},
   "source": [
    "### 時間日期"
   ]
  },
  {
   "cell_type": "code",
   "execution_count": 11,
   "id": "51e267ce",
   "metadata": {},
   "outputs": [
    {
     "data": {
      "text/plain": [
       "datetime.datetime(2022, 5, 26, 16, 1, 52, 973739)"
      ]
     },
     "execution_count": 11,
     "metadata": {},
     "output_type": "execute_result"
    }
   ],
   "source": [
    "from datetime import datetime  # from 套件名稱 import 函式\n",
    "now = datetime.now()# 取得目前的時間, 並回傳datetime型態\n",
    "now"
   ]
  },
  {
   "cell_type": "code",
   "execution_count": 14,
   "id": "a2ec65b0",
   "metadata": {},
   "outputs": [
    {
     "name": "stdout",
     "output_type": "stream",
     "text": [
      "2022 5 26 16 1 52 973739\n",
      "4\n",
      "2022-05-26T16:01:52.973739\n"
     ]
    }
   ],
   "source": [
    "#attributes 分別為 年,月,日,時,分,秒,微秒, 其中微秒(microseconds)=1/1000000秒\n",
    "print (now.year, now.month, now.day, now.hour, now.minute, now.second, now.microsecond)\n",
    "print (now.weekday()+1) # 回傳是星期幾, 星期天回傳為 6, 星期一回傳為 0\n",
    "print (now.isoformat()) # 回傳為ISO 8601格式"
   ]
  },
  {
   "cell_type": "code",
   "execution_count": null,
   "id": "966a7967",
   "metadata": {},
   "outputs": [],
   "source": []
  }
 ],
 "metadata": {
  "kernelspec": {
   "display_name": "Python 3 (ipykernel)",
   "language": "python",
   "name": "python3"
  },
  "language_info": {
   "codemirror_mode": {
    "name": "ipython",
    "version": 3
   },
   "file_extension": ".py",
   "mimetype": "text/x-python",
   "name": "python",
   "nbconvert_exporter": "python",
   "pygments_lexer": "ipython3",
   "version": "3.9.7"
  }
 },
 "nbformat": 4,
 "nbformat_minor": 5
}
